{
 "cells": [
  {
   "cell_type": "markdown",
   "id": "5487f443",
   "metadata": {},
   "source": [
    "# Developing A Search Engine for US Congressional Bills\n",
    "### Holden Huntzinger -- holdenh@umich.edu\n",
    "Currently includes bills 1993-2016\n",
    "\n",
    "See the [accompanying report](https://docs.google.com/document/d/18zFmpfLCy-gGJyt9WcHooT_v3RIC75SHj0IgbeayRYo/edit?usp=sharing) for additional information or download the corpus and other code from [Github](https://github.com/hhuntz/congressional_search)"
   ]
  },
  {
   "cell_type": "markdown",
   "id": "cb5596e4",
   "metadata": {},
   "source": [
    "## Step 1: Create an Index using Pyterrier"
   ]
  },
  {
   "cell_type": "code",
   "execution_count": 1,
   "id": "101a014e",
   "metadata": {},
   "outputs": [],
   "source": [
    "import pandas as pd\n",
    "import numpy as np\n",
    "import pyterrier as pt\n",
    "from pyterrier.measures import *\n",
    "import warnings\n",
    "warnings.filterwarnings('ignore')"
   ]
  },
  {
   "cell_type": "code",
   "execution_count": 2,
   "id": "27fa4ed5",
   "metadata": {},
   "outputs": [
    {
     "name": "stderr",
     "output_type": "stream",
     "text": [
      "PyTerrier 0.9.1 has loaded Terrier 5.7 (built by craigm on 2022-11-10 18:30) and terrier-helper 0.0.7\n",
      "\n",
      "No etc/terrier.properties, using terrier.default.properties for bootstrap configuration.\n"
     ]
    }
   ],
   "source": [
    "# start pyterrier\n",
    "if not pt.started():\n",
    "    pt.init()"
   ]
  },
  {
   "cell_type": "code",
   "execution_count": 3,
   "id": "b7df8e6c",
   "metadata": {},
   "outputs": [],
   "source": [
    "# get data\n",
    "bills_df = pd.read_csv('data/us_congress_bills_1993-2016.csv', index_col = 0)\n",
    "bills_df.columns = ['docno', 'text', 'summary', 'title'] # col name 'docno' prescribed by pyterrier"
   ]
  },
  {
   "cell_type": "code",
   "execution_count": 52,
   "id": "3d9ec6f6",
   "metadata": {},
   "outputs": [],
   "source": [
    "# create index\n",
    "index_dir = './congressional_search_index'\n",
    "iter_indexer = pt.IterDictIndexer(index_dir, overwrite=True)\n",
    "bills_dict = bills_df.to_dict(orient=\"records\") \n",
    "indexref = iter_indexer.index(bills_dict, fields=(['text']))\n",
    "index = pt.IndexFactory.of(indexref)"
   ]
  },
  {
   "cell_type": "code",
   "execution_count": 5,
   "id": "4e10dee7",
   "metadata": {
    "scrolled": true
   },
   "outputs": [
    {
     "name": "stdout",
     "output_type": "stream",
     "text": [
      "Number of documents: 22218\n",
      "Number of terms: 42804\n",
      "Number of postings: 5367104\n",
      "Number of fields: 3\n",
      "Number of tokens: 18691928\n",
      "Field names: [text, summary, title]\n",
      "Positions:   false\n",
      "\n"
     ]
    }
   ],
   "source": [
    "# collection stats\n",
    "print(index.getCollectionStatistics().toString())"
   ]
  },
  {
   "cell_type": "markdown",
   "id": "814e39b4",
   "metadata": {},
   "source": [
    "## Step 2: Retrieve Documents for Annotation"
   ]
  },
  {
   "cell_type": "markdown",
   "id": "e5525628",
   "metadata": {},
   "source": [
    "The goal here is to retrieve results for sample queries to be manually annotated for relevance on a 1-5 (5 being most relevant) scale. Annotations are loaded into this notebook below. Many of the sample queries are based on the long-running [Gallop poll](https://news.gallup.com/poll/1675/most-important-problem.aspx) of Americans that asks \"What do you think is the most important problem facing the country today?\""
   ]
  },
  {
   "cell_type": "code",
   "execution_count": 6,
   "id": "5697c61c",
   "metadata": {},
   "outputs": [
    {
     "data": {
      "text/html": [
       "<div>\n",
       "<style scoped>\n",
       "    .dataframe tbody tr th:only-of-type {\n",
       "        vertical-align: middle;\n",
       "    }\n",
       "\n",
       "    .dataframe tbody tr th {\n",
       "        vertical-align: top;\n",
       "    }\n",
       "\n",
       "    .dataframe thead th {\n",
       "        text-align: right;\n",
       "    }\n",
       "</style>\n",
       "<table border=\"1\" class=\"dataframe\">\n",
       "  <thead>\n",
       "    <tr style=\"text-align: right;\">\n",
       "      <th></th>\n",
       "      <th>qid</th>\n",
       "      <th>query</th>\n",
       "    </tr>\n",
       "  </thead>\n",
       "  <tbody>\n",
       "    <tr>\n",
       "      <th>0</th>\n",
       "      <td>q1</td>\n",
       "      <td>elephants</td>\n",
       "    </tr>\n",
       "    <tr>\n",
       "      <th>1</th>\n",
       "      <td>q2</td>\n",
       "      <td>gun rights</td>\n",
       "    </tr>\n",
       "    <tr>\n",
       "      <th>2</th>\n",
       "      <td>q3</td>\n",
       "      <td>oil prices</td>\n",
       "    </tr>\n",
       "    <tr>\n",
       "      <th>3</th>\n",
       "      <td>q4</td>\n",
       "      <td>economic recession depression economy</td>\n",
       "    </tr>\n",
       "    <tr>\n",
       "      <th>4</th>\n",
       "      <td>q5</td>\n",
       "      <td>immigration</td>\n",
       "    </tr>\n",
       "  </tbody>\n",
       "</table>\n",
       "</div>"
      ],
      "text/plain": [
       "  qid                                  query\n",
       "0  q1                              elephants\n",
       "1  q2                             gun rights\n",
       "2  q3                             oil prices\n",
       "3  q4  economic recession depression economy\n",
       "4  q5                            immigration"
      ]
     },
     "execution_count": 6,
     "metadata": {},
     "output_type": "execute_result"
    }
   ],
   "source": [
    "# load queries\n",
    "queries = pd.read_csv('data/sample_queries.csv', index_col = 0)\n",
    "queries.head()"
   ]
  },
  {
   "cell_type": "code",
   "execution_count": 7,
   "id": "39c17cc3",
   "metadata": {},
   "outputs": [],
   "source": [
    "# use a few different basic weighting schemes\n",
    "tfidf = pt.BatchRetrieve(index, wmodel = 'TF_IDF')\n",
    "bm25 = pt.BatchRetrieve(index, wmodel = 'BM25')\n",
    "pl2 = pt.BatchRetrieve(index, wmodel = 'PL2')"
   ]
  },
  {
   "cell_type": "code",
   "execution_count": 8,
   "id": "ec904295",
   "metadata": {
    "scrolled": false
   },
   "outputs": [
    {
     "data": {
      "text/html": [
       "<div>\n",
       "<style scoped>\n",
       "    .dataframe tbody tr th:only-of-type {\n",
       "        vertical-align: middle;\n",
       "    }\n",
       "\n",
       "    .dataframe tbody tr th {\n",
       "        vertical-align: top;\n",
       "    }\n",
       "\n",
       "    .dataframe thead th {\n",
       "        text-align: right;\n",
       "    }\n",
       "</style>\n",
       "<table border=\"1\" class=\"dataframe\">\n",
       "  <thead>\n",
       "    <tr style=\"text-align: right;\">\n",
       "      <th></th>\n",
       "      <th>docno</th>\n",
       "      <th>text</th>\n",
       "      <th>summary</th>\n",
       "      <th>title</th>\n",
       "      <th>qid</th>\n",
       "      <th>query</th>\n",
       "    </tr>\n",
       "  </thead>\n",
       "  <tbody>\n",
       "    <tr>\n",
       "      <th>0</th>\n",
       "      <td>115_s1256</td>\n",
       "      <td>SECTION 1. SHORT TITLE.\\n\\n    This Act may be...</td>\n",
       "      <td>Ghost Army Congressional Gold Medal Act This b...</td>\n",
       "      <td>Ghost Army Congressional Gold Medal Act</td>\n",
       "      <td>q1</td>\n",
       "      <td>elephants</td>\n",
       "    </tr>\n",
       "    <tr>\n",
       "      <th>1</th>\n",
       "      <td>114_s27</td>\n",
       "      <td>SECTION 1. SHORT TITLE.\\n\\n    This Act may be...</td>\n",
       "      <td>Wildlife Trafficking Enforcement Act of 2015 T...</td>\n",
       "      <td>Wildlife Trafficking Enforcement Act of 2015</td>\n",
       "      <td>q1</td>\n",
       "      <td>elephants</td>\n",
       "    </tr>\n",
       "    <tr>\n",
       "      <th>2</th>\n",
       "      <td>115_hr226</td>\n",
       "      <td>SECTION 1. SHORT TITLE.\\n\\n    This Act may be...</td>\n",
       "      <td>African Elephant Conservation and Legal Ivory ...</td>\n",
       "      <td>African Elephant Conservation and Legal Ivory ...</td>\n",
       "      <td>q1</td>\n",
       "      <td>elephants</td>\n",
       "    </tr>\n",
       "    <tr>\n",
       "      <th>3</th>\n",
       "      <td>109_s2254</td>\n",
       "      <td>SECTION 1. FINDINGS.\\n\\n    Congress finds tha...</td>\n",
       "      <td>Directs the Secretary of the Army to: (1) carr...</td>\n",
       "      <td>A bill to authorize the Secretary of the Army ...</td>\n",
       "      <td>q1</td>\n",
       "      <td>elephants</td>\n",
       "    </tr>\n",
       "    <tr>\n",
       "      <th>4</th>\n",
       "      <td>115_hr2701</td>\n",
       "      <td>SECTION 1. SHORT TITLE.\\n\\n    This Act may be...</td>\n",
       "      <td>Ghost Army Congressional Gold Medal Act This b...</td>\n",
       "      <td>Ghost Army Congressional Gold Medal Act</td>\n",
       "      <td>q1</td>\n",
       "      <td>elephants</td>\n",
       "    </tr>\n",
       "  </tbody>\n",
       "</table>\n",
       "</div>"
      ],
      "text/plain": [
       "        docno                                               text  \\\n",
       "0   115_s1256  SECTION 1. SHORT TITLE.\\n\\n    This Act may be...   \n",
       "1     114_s27  SECTION 1. SHORT TITLE.\\n\\n    This Act may be...   \n",
       "2   115_hr226  SECTION 1. SHORT TITLE.\\n\\n    This Act may be...   \n",
       "3   109_s2254  SECTION 1. FINDINGS.\\n\\n    Congress finds tha...   \n",
       "4  115_hr2701  SECTION 1. SHORT TITLE.\\n\\n    This Act may be...   \n",
       "\n",
       "                                             summary  \\\n",
       "0  Ghost Army Congressional Gold Medal Act This b...   \n",
       "1  Wildlife Trafficking Enforcement Act of 2015 T...   \n",
       "2  African Elephant Conservation and Legal Ivory ...   \n",
       "3  Directs the Secretary of the Army to: (1) carr...   \n",
       "4  Ghost Army Congressional Gold Medal Act This b...   \n",
       "\n",
       "                                               title qid      query  \n",
       "0            Ghost Army Congressional Gold Medal Act  q1  elephants  \n",
       "1       Wildlife Trafficking Enforcement Act of 2015  q1  elephants  \n",
       "2  African Elephant Conservation and Legal Ivory ...  q1  elephants  \n",
       "3  A bill to authorize the Secretary of the Army ...  q1  elephants  \n",
       "4            Ghost Army Congressional Gold Medal Act  q1  elephants  "
      ]
     },
     "execution_count": 8,
     "metadata": {},
     "output_type": "execute_result"
    }
   ],
   "source": [
    "# get sample query results from base models for annotation\n",
    "\n",
    "all_results = pd.DataFrame()\n",
    "\n",
    "for q in queries.qid:\n",
    "    \n",
    "    # get results for each ranking model \n",
    "    docno_list = []\n",
    "    for model in [tfidf, bm25, pl2]:\n",
    "        model_res = model(queries[queries.qid == q]).head(100)\n",
    "        returned_docnos = list(model_res.docno)\n",
    "        docno_list.extend(returned_docnos)\n",
    "    \n",
    "    # get text, summary, title, and query for each returned bill\n",
    "    q_results = bills_df[bills_df.docno.isin(docno_list)]\n",
    "    q_results['qid'] = q\n",
    "    all_results = pd.concat([all_results, q_results])\n",
    "\n",
    "results = pd.merge(all_results, queries, on = 'qid')\n",
    "\n",
    "results.head()"
   ]
  },
  {
   "cell_type": "markdown",
   "id": "eb28cc3d",
   "metadata": {},
   "source": [
    "## Step 3: Calculate Benchmark Accuracy"
   ]
  },
  {
   "cell_type": "markdown",
   "id": "8ef1804b",
   "metadata": {},
   "source": [
    "I have downloaded the above dataframe and manually annotated the 2353 rows with a relevance score relative to the query for which the bill was returned by one of the basic models above. These scores range from 1 to 5 (with 5 for very relevant bills) and are saved in the 'labels' column that you can see below. These 'ground truth' values will allow me to compare different models and train machine learning models to power the search function. Before building a new model, I'll get baseline normalized discounted cumulative gain values against which to compare my own results. "
   ]
  },
  {
   "cell_type": "code",
   "execution_count": 9,
   "id": "93c714bc",
   "metadata": {},
   "outputs": [
    {
     "data": {
      "text/html": [
       "<div>\n",
       "<style scoped>\n",
       "    .dataframe tbody tr th:only-of-type {\n",
       "        vertical-align: middle;\n",
       "    }\n",
       "\n",
       "    .dataframe tbody tr th {\n",
       "        vertical-align: top;\n",
       "    }\n",
       "\n",
       "    .dataframe thead th {\n",
       "        text-align: right;\n",
       "    }\n",
       "</style>\n",
       "<table border=\"1\" class=\"dataframe\">\n",
       "  <thead>\n",
       "    <tr style=\"text-align: right;\">\n",
       "      <th></th>\n",
       "      <th>qid</th>\n",
       "      <th>docno</th>\n",
       "      <th>label</th>\n",
       "    </tr>\n",
       "  </thead>\n",
       "  <tbody>\n",
       "    <tr>\n",
       "      <th>0</th>\n",
       "      <td>q1</td>\n",
       "      <td>115_s1256</td>\n",
       "      <td>1</td>\n",
       "    </tr>\n",
       "    <tr>\n",
       "      <th>1</th>\n",
       "      <td>q1</td>\n",
       "      <td>114_s27</td>\n",
       "      <td>4</td>\n",
       "    </tr>\n",
       "    <tr>\n",
       "      <th>2</th>\n",
       "      <td>q1</td>\n",
       "      <td>115_hr226</td>\n",
       "      <td>5</td>\n",
       "    </tr>\n",
       "    <tr>\n",
       "      <th>3</th>\n",
       "      <td>q1</td>\n",
       "      <td>109_s2254</td>\n",
       "      <td>2</td>\n",
       "    </tr>\n",
       "    <tr>\n",
       "      <th>4</th>\n",
       "      <td>q1</td>\n",
       "      <td>115_hr2701</td>\n",
       "      <td>1</td>\n",
       "    </tr>\n",
       "  </tbody>\n",
       "</table>\n",
       "</div>"
      ],
      "text/plain": [
       "  qid       docno  label\n",
       "0  q1   115_s1256      1\n",
       "1  q1     114_s27      4\n",
       "2  q1   115_hr226      5\n",
       "3  q1   109_s2254      2\n",
       "4  q1  115_hr2701      1"
      ]
     },
     "execution_count": 9,
     "metadata": {},
     "output_type": "execute_result"
    }
   ],
   "source": [
    "# read in annotation labels\n",
    "annotations = pd.read_csv('data/congress_bills_annotations.csv')\n",
    "labels = annotations[['qid', 'docno', 'label']]\n",
    "labels['label'] = labels['label'].astype('int32')\n",
    "labels.head()"
   ]
  },
  {
   "cell_type": "code",
   "execution_count": 10,
   "id": "7b802f3b",
   "metadata": {
    "scrolled": true
   },
   "outputs": [
    {
     "data": {
      "text/html": [
       "<div>\n",
       "<style scoped>\n",
       "    .dataframe tbody tr th:only-of-type {\n",
       "        vertical-align: middle;\n",
       "    }\n",
       "\n",
       "    .dataframe tbody tr th {\n",
       "        vertical-align: top;\n",
       "    }\n",
       "\n",
       "    .dataframe thead th {\n",
       "        text-align: right;\n",
       "    }\n",
       "</style>\n",
       "<table border=\"1\" class=\"dataframe\">\n",
       "  <thead>\n",
       "    <tr style=\"text-align: right;\">\n",
       "      <th></th>\n",
       "      <th>name</th>\n",
       "      <th>map</th>\n",
       "      <th>nDCG</th>\n",
       "      <th>nDCG@5</th>\n",
       "      <th>nDCG@10</th>\n",
       "    </tr>\n",
       "  </thead>\n",
       "  <tbody>\n",
       "    <tr>\n",
       "      <th>0</th>\n",
       "      <td>BR(TF_IDF)</td>\n",
       "      <td>0.959585</td>\n",
       "      <td>0.909306</td>\n",
       "      <td>0.769908</td>\n",
       "      <td>0.744234</td>\n",
       "    </tr>\n",
       "    <tr>\n",
       "      <th>1</th>\n",
       "      <td>BR(BM25)</td>\n",
       "      <td>0.956574</td>\n",
       "      <td>0.907808</td>\n",
       "      <td>0.772988</td>\n",
       "      <td>0.748468</td>\n",
       "    </tr>\n",
       "    <tr>\n",
       "      <th>2</th>\n",
       "      <td>BR(PL2)</td>\n",
       "      <td>0.951638</td>\n",
       "      <td>0.921291</td>\n",
       "      <td>0.802127</td>\n",
       "      <td>0.776127</td>\n",
       "    </tr>\n",
       "  </tbody>\n",
       "</table>\n",
       "</div>"
      ],
      "text/plain": [
       "         name       map      nDCG    nDCG@5   nDCG@10\n",
       "0  BR(TF_IDF)  0.959585  0.909306  0.769908  0.744234\n",
       "1    BR(BM25)  0.956574  0.907808  0.772988  0.748468\n",
       "2     BR(PL2)  0.951638  0.921291  0.802127  0.776127"
      ]
     },
     "execution_count": 10,
     "metadata": {},
     "output_type": "execute_result"
    }
   ],
   "source": [
    "pt.Experiment(\n",
    "    [tfidf, bm25, pl2],\n",
    "    queries,\n",
    "    labels,\n",
    "    eval_metrics=['map', nDCG, nDCG@5, nDCG@10])"
   ]
  },
  {
   "cell_type": "markdown",
   "id": "ced8bf19",
   "metadata": {},
   "source": [
    "These models have very high success rates here because they each returned similar documents and I annotated documents based on what these same models returned. That skews my comparison significantly and may make these scores hard to beat. \n",
    "\n",
    "Congress.gov, hosted by the Library of Congress, provides a similar search function to what I'm hoping to build here. I'll use that as the most significant benchmark for comparison, with the goal of beating the US Government. \n",
    "\n",
    "Congress.gov results were restriced to the relevant years and sorted by relevancy via the web interface before download. For the last query ('corporate corruption greed'), Congress.gov found no results. These results were manually downloaded and then programatically reorganized to fit the format requirements of pyterrier. As results are not explicitly scored by Congress.gov, scores from 1-5 were given to match the result's quintile from the results. For example: 100 results were returned, the first 20 would get a score of 5, the next 20 would get a score of 4, etc.\n",
    "\n",
    "Citation: Congress.gov. \"Quick Search.\" December 9, 2022. https://www.congress.gov/quick-search/legislation."
   ]
  },
  {
   "cell_type": "code",
   "execution_count": 45,
   "id": "d867497c",
   "metadata": {},
   "outputs": [],
   "source": [
    "gov_results = pd.read_csv('data/congress_results.csv')"
   ]
  },
  {
   "cell_type": "code",
   "execution_count": 172,
   "id": "c02a1e50",
   "metadata": {},
   "outputs": [
    {
     "data": {
      "text/html": [
       "<div>\n",
       "<style scoped>\n",
       "    .dataframe tbody tr th:only-of-type {\n",
       "        vertical-align: middle;\n",
       "    }\n",
       "\n",
       "    .dataframe tbody tr th {\n",
       "        vertical-align: top;\n",
       "    }\n",
       "\n",
       "    .dataframe thead th {\n",
       "        text-align: right;\n",
       "    }\n",
       "</style>\n",
       "<table border=\"1\" class=\"dataframe\">\n",
       "  <thead>\n",
       "    <tr style=\"text-align: right;\">\n",
       "      <th></th>\n",
       "      <th>name</th>\n",
       "      <th>map</th>\n",
       "      <th>nDCG</th>\n",
       "      <th>nDCG@5</th>\n",
       "      <th>nDCG@10</th>\n",
       "    </tr>\n",
       "  </thead>\n",
       "  <tbody>\n",
       "    <tr>\n",
       "      <th>0</th>\n",
       "      <td>BR(TF_IDF)</td>\n",
       "      <td>0.959585</td>\n",
       "      <td>0.909306</td>\n",
       "      <td>0.769908</td>\n",
       "      <td>0.744234</td>\n",
       "    </tr>\n",
       "    <tr>\n",
       "      <th>1</th>\n",
       "      <td>BR(BM25)</td>\n",
       "      <td>0.956574</td>\n",
       "      <td>0.907808</td>\n",
       "      <td>0.772988</td>\n",
       "      <td>0.748468</td>\n",
       "    </tr>\n",
       "    <tr>\n",
       "      <th>2</th>\n",
       "      <td>Unnamed: 0       docno  qid    rank  sco...</td>\n",
       "      <td>0.160404</td>\n",
       "      <td>0.308643</td>\n",
       "      <td>0.371456</td>\n",
       "      <td>0.341436</td>\n",
       "    </tr>\n",
       "  </tbody>\n",
       "</table>\n",
       "</div>"
      ],
      "text/plain": [
       "                                                name       map      nDCG  \\\n",
       "0                                         BR(TF_IDF)  0.959585  0.909306   \n",
       "1                                           BR(BM25)  0.956574  0.907808   \n",
       "2        Unnamed: 0       docno  qid    rank  sco...  0.160404  0.308643   \n",
       "\n",
       "     nDCG@5   nDCG@10  \n",
       "0  0.769908  0.744234  \n",
       "1  0.772988  0.748468  \n",
       "2  0.371456  0.341436  "
      ]
     },
     "execution_count": 172,
     "metadata": {},
     "output_type": "execute_result"
    }
   ],
   "source": [
    "pt.Experiment(\n",
    "    [tfidf, bm25, gov_results],\n",
    "    queries,\n",
    "    labels,\n",
    "    eval_metrics=['map', nDCG, nDCG@5, nDCG@10]) "
   ]
  },
  {
   "cell_type": "markdown",
   "id": "11443623",
   "metadata": {},
   "source": [
    "# Step 4: Learning to Rank"
   ]
  },
  {
   "cell_type": "code",
   "execution_count": 39,
   "id": "58b11326",
   "metadata": {},
   "outputs": [],
   "source": [
    "from sklearn.model_selection import train_test_split\n",
    "from sklearn.ensemble import RandomForestRegressor\n",
    "import fastrank"
   ]
  },
  {
   "cell_type": "code",
   "execution_count": 96,
   "id": "922e34a4",
   "metadata": {},
   "outputs": [],
   "source": [
    "features_pipe = tfidf >> bm25\n",
    "topics = features_pipe.transform(queries)"
   ]
  },
  {
   "cell_type": "code",
   "execution_count": 97,
   "id": "f6232236",
   "metadata": {},
   "outputs": [],
   "source": [
    "features = bm25 ** tfidf"
   ]
  },
  {
   "cell_type": "code",
   "execution_count": 98,
   "id": "4600942c",
   "metadata": {},
   "outputs": [],
   "source": [
    "tr_va_topics, test_topics = train_test_split(topics, test_size = 0.2, random_state = 42)\n",
    "train_topics, valid_topics =  train_test_split(tr_va_topics, test_size = 0.2, random_state = 42)"
   ]
  },
  {
   "cell_type": "code",
   "execution_count": 99,
   "id": "9757e65d",
   "metadata": {},
   "outputs": [
    {
     "name": "stdout",
     "output_type": "stream",
     "text": [
      "CPU times: user 7.17 s, sys: 155 ms, total: 7.33 s\n",
      "Wall time: 4.52 s\n"
     ]
    }
   ],
   "source": [
    "# set up random forest\n",
    "rf = RandomForestRegressor(n_estimators = 400, random_state = 42, n_jobs = 2)\n",
    "\n",
    "rf_pipe = features >> pt.ltr.apply_learned_model(rf)\n",
    "\n",
    "%time rf_pipe.fit(train_topics, labels)"
   ]
  },
  {
   "cell_type": "code",
   "execution_count": 100,
   "id": "1699a906",
   "metadata": {
    "scrolled": true
   },
   "outputs": [
    {
     "name": "stdout",
     "output_type": "stream",
     "text": [
      "---------------------------\n",
      "Training starts...\n",
      "---------------------------\n",
      "[+] Random restart #1/5...\n",
      "[+] Random restart #2/5...\n",
      "[+] Random restart #3/5...\n",
      "[+] Random restart #4/5...\n",
      "Shuffle features and optimize!\n",
      "----------------------------------------\n",
      "   2|Feature         |   Weight|     NDCG\n",
      "----------------------------------------\n",
      "Shuffle features and optimize!\n",
      "----------------------------------------\n",
      "   0|Feature         |   Weight|     NDCG\n",
      "----------------------------------------\n",
      "Shuffle features and optimize!\n",
      "----------------------------------------\n",
      "   1|Feature         |   Weight|     NDCG\n",
      "----------------------------------------\n",
      "Shuffle features and optimize!\n",
      "----------------------------------------\n",
      "   3|Feature         |   Weight|     NDCG\n",
      "----------------------------------------\n",
      "   1|0               |    0.000|    0.810\n",
      "   0|0               |   -0.440|    0.381\n",
      "   0|0               |   -0.540|    0.381\n",
      "   0|0               |   -0.740|    0.381\n",
      "   1|0               |   -0.159|    0.811\n",
      "   0|0               |   -1.140|    0.381\n",
      "   0|0               |   -1.940|    0.381\n",
      "   0|0               |   -3.540|    0.382\n",
      "   0|0               |   -6.740|    0.382\n",
      "   0|0               |  -13.140|    0.382\n",
      "   0|0               |  -25.940|    0.382\n",
      "   0|0               |  -51.540|    0.382\n",
      "   0|0               | -102.740|    0.382\n",
      "   0|0               | -205.140|    0.382\n",
      "   0|0               | -409.940|    0.382\n",
      "   0|0               | -819.540|    0.382\n",
      "   0|0               |-26214.740|    0.382\n",
      "   0|0               |-52429.140|    0.382\n",
      "   3|1               |    0.701|    0.778\n",
      "   3|1               |    0.801|    0.803\n",
      "   2|0               |    0.781|    0.812\n",
      "   3|1               |    1.001|    0.809\n",
      "   2|0               |    0.881|    0.813\n",
      "   3|1               |    1.401|    0.811\n",
      "   2|0               |    1.081|    0.813\n",
      "   0|0               |    0.360|    0.693\n",
      "   3|1               |    2.201|    0.811\n",
      "   2|0               |    1.481|    0.813\n",
      "   0|0               |    1.160|    0.812\n",
      "   0|0               |    2.760|    0.813\n",
      "---------------------------\n",
      "Shuffle features and optimize!\n",
      "----------------------------------------\n",
      "   1|Feature         |   Weight|     NDCG\n",
      "----------------------------------------\n",
      "---------------------------\n",
      "Shuffle features and optimize!\n",
      "----------------------------------------\n",
      "   3|Feature         |   Weight|     NDCG\n",
      "----------------------------------------\n",
      "---------------------------\n",
      "Shuffle features and optimize!\n",
      "----------------------------------------\n",
      "   0|Feature         |   Weight|     NDCG\n",
      "----------------------------------------\n",
      "[+] Random restart #5/5...\n",
      "   3|1               |    0.813|    0.811\n",
      "Shuffle features and optimize!\n",
      "----------------------------------------\n",
      "   4|Feature         |   Weight|     NDCG\n",
      "----------------------------------------\n",
      "   0|0               |    0.869|    0.813\n",
      "   0|0               |    0.969|    0.813\n",
      "   4|0               |    2.168|    0.813\n",
      "---------------------------\n",
      "Finished successfully.\n",
      "CPU times: user 3.57 s, sys: 103 ms, total: 3.68 s\n",
      "Wall time: 2.23 s\n"
     ]
    }
   ],
   "source": [
    "# set up fastrank\n",
    "train_request = fastrank.TrainRequest.coordinate_ascent()\n",
    "\n",
    "params = train_request.params\n",
    "params.init_random = True\n",
    "params.normalize = True\n",
    "params.seed = 1234567\n",
    "\n",
    "ca_pipe = features >> pt.ltr.apply_learned_model(train_request, form='fastrank')\n",
    "\n",
    "%time ca_pipe.fit(train_topics, labels)"
   ]
  },
  {
   "cell_type": "code",
   "execution_count": 130,
   "id": "4052713d",
   "metadata": {},
   "outputs": [
    {
     "name": "stdout",
     "output_type": "stream",
     "text": [
      "[16:02:01] WARNING: /Users/runner/work/xgboost/xgboost/python-package/build/temp.macosx-10.9-x86_64-cpython-38/xgboost/src/learner.cc:767: \n",
      "Parameters: { \"verbose\" } are not used.\n",
      "\n"
     ]
    }
   ],
   "source": [
    "lmart_x = xgb.sklearn.XGBRanker(objective='rank:ndcg',\n",
    "      learning_rate = 0.1,\n",
    "      gamma = 1.0,\n",
    "      min_child_weight = 0.1,\n",
    "      max_depth = 6,\n",
    "      verbose = 2,\n",
    "      random_state = 42)\n",
    "\n",
    "lmart_x_pipe = features >> pt.ltr.apply_learned_model(lmart_x, form=\"ltr\")\n",
    "lmart_x_pipe.fit(train_topics, labels, valid_topics, labels)"
   ]
  },
  {
   "cell_type": "code",
   "execution_count": 131,
   "id": "fd1e3327",
   "metadata": {},
   "outputs": [
    {
     "data": {
      "text/html": [
       "<div>\n",
       "<style scoped>\n",
       "    .dataframe tbody tr th:only-of-type {\n",
       "        vertical-align: middle;\n",
       "    }\n",
       "\n",
       "    .dataframe tbody tr th {\n",
       "        vertical-align: top;\n",
       "    }\n",
       "\n",
       "    .dataframe thead th {\n",
       "        text-align: right;\n",
       "    }\n",
       "</style>\n",
       "<table border=\"1\" class=\"dataframe\">\n",
       "  <thead>\n",
       "    <tr style=\"text-align: right;\">\n",
       "      <th></th>\n",
       "      <th>name</th>\n",
       "      <th>map</th>\n",
       "      <th>ndcg</th>\n",
       "      <th>ndcg_cut_10</th>\n",
       "      <th>mrt</th>\n",
       "    </tr>\n",
       "  </thead>\n",
       "  <tbody>\n",
       "    <tr>\n",
       "      <th>0</th>\n",
       "      <td>BR(BM25)</td>\n",
       "      <td>0.956574</td>\n",
       "      <td>0.907808</td>\n",
       "      <td>0.748468</td>\n",
       "      <td>0.026402</td>\n",
       "    </tr>\n",
       "    <tr>\n",
       "      <th>1</th>\n",
       "      <td>BR(TF_IDF)</td>\n",
       "      <td>0.959585</td>\n",
       "      <td>0.909306</td>\n",
       "      <td>0.744234</td>\n",
       "      <td>0.036957</td>\n",
       "    </tr>\n",
       "    <tr>\n",
       "      <th>2</th>\n",
       "      <td>Unnamed: 0       docno  qid    rank  sco...</td>\n",
       "      <td>0.160404</td>\n",
       "      <td>0.308643</td>\n",
       "      <td>0.341436</td>\n",
       "      <td>0.000000</td>\n",
       "    </tr>\n",
       "    <tr>\n",
       "      <th>3</th>\n",
       "      <td>Compose(FUnion(BR(BM25), BR(TF_IDF)), &lt;pyterri...</td>\n",
       "      <td>0.960541</td>\n",
       "      <td>0.964854</td>\n",
       "      <td>0.913514</td>\n",
       "      <td>0.137471</td>\n",
       "    </tr>\n",
       "    <tr>\n",
       "      <th>4</th>\n",
       "      <td>Compose(FUnion(BR(BM25), BR(TF_IDF)), &lt;pyterri...</td>\n",
       "      <td>0.955094</td>\n",
       "      <td>0.910001</td>\n",
       "      <td>0.753370</td>\n",
       "      <td>0.132982</td>\n",
       "    </tr>\n",
       "    <tr>\n",
       "      <th>5</th>\n",
       "      <td>Compose(FUnion(BR(BM25), BR(TF_IDF)), &lt;pyterri...</td>\n",
       "      <td>0.855016</td>\n",
       "      <td>0.872096</td>\n",
       "      <td>0.644952</td>\n",
       "      <td>0.122942</td>\n",
       "    </tr>\n",
       "  </tbody>\n",
       "</table>\n",
       "</div>"
      ],
      "text/plain": [
       "                                                name       map      ndcg  \\\n",
       "0                                           BR(BM25)  0.956574  0.907808   \n",
       "1                                         BR(TF_IDF)  0.959585  0.909306   \n",
       "2        Unnamed: 0       docno  qid    rank  sco...  0.160404  0.308643   \n",
       "3  Compose(FUnion(BR(BM25), BR(TF_IDF)), <pyterri...  0.960541  0.964854   \n",
       "4  Compose(FUnion(BR(BM25), BR(TF_IDF)), <pyterri...  0.955094  0.910001   \n",
       "5  Compose(FUnion(BR(BM25), BR(TF_IDF)), <pyterri...  0.855016  0.872096   \n",
       "\n",
       "   ndcg_cut_10       mrt  \n",
       "0     0.748468  0.026402  \n",
       "1     0.744234  0.036957  \n",
       "2     0.341436  0.000000  \n",
       "3     0.913514  0.137471  \n",
       "4     0.753370  0.132982  \n",
       "5     0.644952  0.122942  "
      ]
     },
     "execution_count": 131,
     "metadata": {},
     "output_type": "execute_result"
    }
   ],
   "source": [
    "pt.Experiment(\n",
    "    [bm25, tfidf, gov_results, rf_pipe, ca_pipe, lmart_x_pipe],\n",
    "    topics,\n",
    "    labels,\n",
    "    eval_metrics=[\"map\", \"ndcg\", \"ndcg_cut_10\", \"mrt\"])"
   ]
  },
  {
   "cell_type": "markdown",
   "id": "5b2cfe36",
   "metadata": {},
   "source": [
    "# Step 5: Iterate\n",
    "\n",
    "Though they're both a bit slower, both ML pipelines beat the baseline models easily -- and did more than 3 times better than the Congress.gov search! Now, the goal is just to beat the previous score (and also just to try some cool stuff)."
   ]
  },
  {
   "cell_type": "markdown",
   "id": "9bb88cfb",
   "metadata": {},
   "source": [
    "### More Indices, More Problems?\n",
    "\n",
    "Our corpus also includes human-generated titles and summaries, and we can include the TF-IDF and BM25 scores for the query and each of these additional texts as features for the models."
   ]
  },
  {
   "cell_type": "code",
   "execution_count": 55,
   "id": "e21b9928",
   "metadata": {},
   "outputs": [
    {
     "name": "stdout",
     "output_type": "stream",
     "text": [
      "Number of documents: 22218\n",
      "Number of terms: 7614\n",
      "Number of postings: 232926\n",
      "Number of fields: 1\n",
      "Number of tokens: 250795\n",
      "Field names: [title]\n",
      "Positions:   false\n",
      "\n"
     ]
    }
   ],
   "source": [
    "# build title index\n",
    "index_dir = './congressional_search__title_index'\n",
    "iter_indexer = pt.IterDictIndexer(index_dir, overwrite=True)\n",
    "bills_dict = bills_df.to_dict(orient=\"records\") \n",
    "indexref = iter_indexer.index(bills_dict, fields=(['title']))\n",
    "title_index = pt.IndexFactory.of(indexref)\n",
    "\n",
    "# get collection stats\n",
    "print(title_index.getCollectionStatistics().toString())"
   ]
  },
  {
   "cell_type": "code",
   "execution_count": 56,
   "id": "556d71a7",
   "metadata": {},
   "outputs": [
    {
     "name": "stdout",
     "output_type": "stream",
     "text": [
      "Number of documents: 22218\n",
      "Number of terms: 16982\n",
      "Number of postings: 1401326\n",
      "Number of fields: 1\n",
      "Number of tokens: 2280046\n",
      "Field names: [summary]\n",
      "Positions:   false\n",
      "\n"
     ]
    }
   ],
   "source": [
    "# build summary index\n",
    "index_dir = './congressional_search__summary_index'\n",
    "iter_indexer = pt.IterDictIndexer(index_dir, overwrite=True)\n",
    "bills_dict = bills_df.to_dict(orient=\"records\") \n",
    "indexref = iter_indexer.index(bills_dict, fields=(['summary']))\n",
    "summary_index = pt.IndexFactory.of(indexref)\n",
    "\n",
    "# get collection stats\n",
    "print(summary_index.getCollectionStatistics().toString())"
   ]
  },
  {
   "cell_type": "code",
   "execution_count": 102,
   "id": "acb23bca",
   "metadata": {},
   "outputs": [],
   "source": [
    "tfidf_title = pt.BatchRetrieve(title_index, wmodel = 'TF_IDF')\n",
    "bm25_title = pt.BatchRetrieve(title_index, wmodel = 'BM25')\n",
    "tfidf_summary = pt.BatchRetrieve(summary_index, wmodel = 'TF_IDF')\n",
    "bm25_summary = pt.BatchRetrieve(summary_index, wmodel = 'BM25')"
   ]
  },
  {
   "cell_type": "code",
   "execution_count": 121,
   "id": "f96823be",
   "metadata": {},
   "outputs": [],
   "source": [
    "multiindex_features = bm25 ** tfidf ** bm25_title ** bm25_summary"
   ]
  },
  {
   "cell_type": "code",
   "execution_count": 122,
   "id": "f818e460",
   "metadata": {},
   "outputs": [
    {
     "name": "stdout",
     "output_type": "stream",
     "text": [
      "CPU times: user 14.2 s, sys: 276 ms, total: 14.5 s\n",
      "Wall time: 9.67 s\n"
     ]
    }
   ],
   "source": [
    "# set up multi-index random forest\n",
    "rf = RandomForestRegressor(n_estimators = 400, random_state = 42, n_jobs = 2)\n",
    "\n",
    "rf_multiindex_pipe = multiindex_features >> pt.ltr.apply_learned_model(rf)\n",
    "\n",
    "%time rf_multiindex_pipe.fit(train_topics, labels)"
   ]
  },
  {
   "cell_type": "code",
   "execution_count": 123,
   "id": "56e22807",
   "metadata": {},
   "outputs": [
    {
     "name": "stdout",
     "output_type": "stream",
     "text": [
      "---------------------------\n",
      "Training starts...\n",
      "---------------------------\n",
      "[+] Random restart #1/5...\n",
      "[+] Random restart #4/5...\n",
      "[+] Random restart #3/5...\n",
      "[+] Random restart #2/5...\n",
      "Shuffle features and optimize!\n",
      "----------------------------------------\n",
      "   0|Feature         |   Weight|     NDCG\n",
      "----------------------------------------\n",
      "Shuffle features and optimize!\n",
      "----------------------------------------\n",
      "Shuffle features and optimize!\n",
      "----------------------------------------\n",
      "   1|Feature         |   Weight|     NDCG\n",
      "   2|Feature         |   Weight|     NDCG\n",
      "----------------------------------------\n",
      "----------------------------------------\n",
      "Shuffle features and optimize!\n",
      "----------------------------------------\n",
      "   3|Feature         |   Weight|     NDCG\n",
      "----------------------------------------\n",
      "   1|3               |    0.000|    0.762\n",
      "   0|3               |    0.228|    0.612\n",
      "   0|3               |    0.328|    0.667\n",
      "   0|3               |    0.528|    0.708\n",
      "   3|3               |    0.419|    0.692\n",
      "   0|3               |    0.928|    0.752\n",
      "   3|3               |    0.519|    0.705\n",
      "   0|3               |    1.728|    0.769\n",
      "   3|3               |    0.719|    0.728\n",
      "   0|3               |    3.328|    0.777\n",
      "   2|3               |    0.173|    0.830\n",
      "   3|3               |    1.119|    0.749\n",
      "   0|3               |    6.528|    0.778\n",
      "   0|3               |   12.928|    0.779\n",
      "   3|3               |    1.919|    0.766\n",
      "   1|0               |    0.045|    0.762\n",
      "   1|0               |    0.049|    0.762\n",
      "   3|3               |    3.519|    0.774\n",
      "   1|0               |    0.058|    0.763\n",
      "   1|0               |    0.075|    0.764\n",
      "   3|3               |    6.719|    0.777\n",
      "   1|0               |    0.109|    0.767\n",
      "   3|3               |   13.119|    0.781\n",
      "   1|0               |    0.177|    0.771\n",
      "   1|0               |    0.313|    0.782\n",
      "   3|3               |   25.919|    0.782\n",
      "   1|0               |    0.586|    0.799\n",
      "   3|3               |   51.519|    0.782\n",
      "   1|0               |    1.131|    0.825\n",
      "   3|3               |  102.719|    0.782\n",
      "   1|0               |    2.222|    0.830\n",
      "   3|3               |  205.119|    0.782\n",
      "   3|3               |  409.919|    0.782\n",
      "   3|3               |  819.519|    0.782\n",
      "   3|3               | 1638.719|    0.782\n",
      "   3|3               | 3277.119|    0.782\n",
      "   3|3               | 6553.919|    0.782\n",
      "   3|3               |13107.519|    0.782\n",
      "   3|3               |26214.719|    0.782\n",
      "   3|3               |104857.919|    0.782\n",
      "   2|2               |    0.061|    0.830\n",
      "   0|2               |    0.024|    0.779\n",
      "   0|2               |    0.026|    0.779\n",
      "   0|2               |    0.040|    0.780\n",
      "   0|2               |    0.058|    0.781\n",
      "   0|0               |    0.000|    0.782\n",
      "   1|1               |    0.060|    0.830\n",
      "   3|1               |    0.000|    0.782\n",
      "   2|2               |    0.074|    0.830\n",
      "   3|1               |    0.000|    0.783\n",
      "   3|1               |    0.000|    0.783\n",
      "   3|1               |    0.000|    0.783\n",
      "   1|1               |    0.099|    0.830\n",
      "   3|1               |    0.000|    0.783\n",
      "   3|1               |    0.000|    0.784\n",
      "   3|1               |    0.000|    0.784\n",
      "   1|1               |    0.145|    0.830\n",
      "   1|1               |    0.235|    0.831\n",
      "   3|1               |    0.000|    0.784\n",
      "   3|1               |    0.000|    0.784\n",
      "   3|1               |    0.000|    0.784\n",
      "   3|1               |    0.000|    0.784\n",
      "   3|1               |    0.001|    0.784\n",
      "   3|1               |    0.001|    0.784\n",
      "   3|1               |    0.002|    0.784\n",
      "   3|1               |    0.004|    0.784\n",
      "   3|1               |    0.009|    0.784\n",
      "   3|1               |    0.018|    0.785\n",
      "   3|1               |    0.036|    0.786\n",
      "   3|1               |    0.071|    0.787\n",
      "   3|1               |    0.142|    0.788\n",
      "   3|1               |    0.284|    0.793\n",
      "   3|1               |    0.569|    0.799\n",
      "   0|0               |    0.008|    0.783\n",
      "   3|1               |    1.138|    0.810\n",
      "   0|0               |    0.030|    0.791\n",
      "   3|1               |    2.276|    0.817\n",
      "   0|0               |    0.074|    0.793\n",
      "   3|1               |    4.551|    0.821\n",
      "   3|2               |    0.000|    0.821\n",
      "   0|0               |    0.163|    0.799\n",
      "   0|0               |    0.341|    0.802\n",
      "   0|0               |    0.697|    0.811\n",
      "   0|0               |    1.409|    0.824\n",
      "   0|0               |    2.832|    0.826\n",
      "   3|2               |   -0.000|    0.821\n",
      "   3|2               |   -0.000|    0.821\n",
      "   3|2               |   -0.000|    0.821\n",
      "   3|2               |   -0.000|    0.821\n",
      "   0|1               |   -0.008|    0.826\n",
      "   0|1               |   -0.015|    0.826\n",
      "   0|1               |   -0.024|    0.826\n",
      "   0|1               |   -0.151|    0.826\n",
      "   3|2               |    0.000|    0.821\n",
      "   3|2               |    0.001|    0.822\n",
      "   3|2               |    0.001|    0.822\n",
      "   3|2               |    0.002|    0.822\n",
      "   3|2               |    0.004|    0.823\n",
      "   3|2               |    0.009|    0.824\n",
      "   3|2               |    0.017|    0.825\n",
      "   3|2               |    0.035|    0.828\n",
      "---------------------------\n",
      "Shuffle features and optimize!\n",
      "----------------------------------------\n",
      "   1|Feature         |   Weight|     NDCG\n",
      "----------------------------------------\n",
      "   3|2               |    0.070|    0.829\n",
      "   3|2               |    0.140|    0.832\n",
      "   3|0               |   -0.000|    0.832\n",
      "   3|0               |   -0.000|    0.832\n",
      "---------------------------\n",
      "Shuffle features and optimize!\n",
      "----------------------------------------\n",
      "   0|Feature         |   Weight|     NDCG\n",
      "----------------------------------------\n",
      "   2|1               |   -0.156|    0.830\n",
      "   2|1               |   -0.056|    0.831\n",
      "   1|3               |    0.050|    0.833\n",
      "   3|0               |    0.000|    0.832\n",
      "   3|0               |    0.000|    0.832\n",
      "   3|0               |    0.000|    0.832\n",
      "   3|0               |    0.000|    0.832\n",
      "   3|0               |    0.000|    0.832\n",
      "   3|0               |    0.000|    0.832\n",
      "   3|0               |    0.000|    0.832\n",
      "   3|0               |    0.003|    0.832\n",
      "   3|0               |    0.006|    0.832\n",
      "   3|0               |    0.012|    0.832\n",
      "   3|0               |    0.024|    0.832\n",
      "   3|0               |    0.048|    0.832\n",
      "   3|0               |    0.096|    0.833\n",
      "---------------------------\n",
      "Shuffle features and optimize!\n",
      "----------------------------------------\n",
      "   2|Feature         |   Weight|     NDCG\n",
      "----------------------------------------\n",
      "---------------------------\n",
      "Shuffle features and optimize!\n",
      "----------------------------------------\n",
      "   3|Feature         |   Weight|     NDCG\n",
      "----------------------------------------\n",
      "   3|3               |    0.094|    0.834\n",
      "   1|2               |    0.248|    0.833\n",
      "   3|0               |    0.000|    0.834\n",
      "   3|0               |    0.060|    0.834\n",
      "   3|0               |    0.023|    0.834\n",
      "   2|0               |    0.607|    0.831\n",
      "   1|1               |    0.231|    0.834\n",
      "   1|1               |    0.331|    0.834\n",
      "   2|2               |    0.095|    0.831\n",
      "   2|1               |    0.000|    0.831\n",
      "   0|2               |    0.014|    0.827\n",
      "   0|2               |    0.015|    0.827\n",
      "   0|2               |    0.023|    0.827\n",
      "   0|2               |    0.033|    0.828\n",
      "   0|2               |    0.054|    0.829\n",
      "   0|2               |    0.095|    0.831\n",
      "---------------------------\n",
      "Shuffle features and optimize!\n",
      "----------------------------------------\n",
      "   1|Feature         |   Weight|     NDCG\n",
      "----------------------------------------\n",
      "---------------------------\n",
      "Shuffle features and optimize!\n",
      "----------------------------------------\n",
      "   0|Feature         |   Weight|     NDCG\n",
      "----------------------------------------\n",
      "---------------------------\n",
      "Shuffle features and optimize!\n",
      "----------------------------------------\n",
      "   3|Feature         |   Weight|     NDCG\n",
      "----------------------------------------\n",
      "   2|1               |    0.038|    0.831\n",
      "   1|3               |    0.041|    0.834\n",
      "   1|3               |    0.045|    0.834\n",
      "   1|3               |    0.053|    0.834\n",
      "[+] Random restart #5/5...\n",
      "Shuffle features and optimize!\n",
      "----------------------------------------\n",
      "   4|Feature         |   Weight|     NDCG\n",
      "----------------------------------------\n",
      "   4|3               |    0.000|    0.646\n",
      "   4|0               |    0.373|    0.646\n",
      "   4|0               |    0.473|    0.655\n",
      "   4|0               |    0.673|    0.676\n",
      "   4|0               |    1.073|    0.707\n",
      "   4|0               |    1.873|    0.732\n",
      "   4|0               |    3.473|    0.755\n",
      "   4|0               |    6.673|    0.773\n",
      "   4|0               |   13.073|    0.787\n",
      "   4|0               |   25.873|    0.796\n",
      "   4|0               |   51.473|    0.801\n",
      "   4|0               |  102.673|    0.805\n",
      "   4|0               |  205.073|    0.806\n",
      "   4|0               |  409.873|    0.807\n",
      "   4|0               |  819.473|    0.808\n",
      "   4|0               | 1638.673|    0.808\n",
      "   4|0               | 3277.073|    0.808\n",
      "   4|0               | 6553.873|    0.808\n"
     ]
    },
    {
     "name": "stdout",
     "output_type": "stream",
     "text": [
      "   4|1               |   -0.000|    0.808\n",
      "   4|1               |   -0.000|    0.808\n",
      "   4|1               |   -0.200|    0.813\n",
      "   0|1               |    0.000|    0.831\n",
      "   4|2               |    0.000|    0.813\n",
      "   0|1               |    0.028|    0.831\n",
      "   4|2               |   -0.000|    0.813\n",
      "   4|2               |    0.000|    0.813\n",
      "   4|2               |    0.000|    0.813\n",
      "   4|2               |    0.001|    0.813\n",
      "   1|0               |    0.411|    0.835\n",
      "   4|2               |    0.003|    0.813\n",
      "   4|2               |    0.006|    0.814\n",
      "   4|2               |    0.012|    0.815\n",
      "   4|2               |    0.050|    0.821\n",
      "   4|2               |    0.099|    0.826\n",
      "   4|2               |    0.199|    0.828\n",
      "---------------------------\n",
      "Shuffle features and optimize!\n",
      "----------------------------------------\n",
      "   4|Feature         |   Weight|     NDCG\n",
      "----------------------------------------\n",
      "   3|0               |   -0.014|    0.834\n",
      "   4|3               |    0.050|    0.829\n",
      "   4|3               |    0.150|    0.830\n",
      "   4|1               |    0.000|    0.831\n",
      "   4|2               |    0.214|    0.833\n",
      "---------------------------\n",
      "Shuffle features and optimize!\n",
      "----------------------------------------\n",
      "   4|Feature         |   Weight|     NDCG\n",
      "----------------------------------------\n",
      "   4|1               |   -0.050|    0.833\n",
      "---------------------------\n",
      "Finished successfully.\n",
      "CPU times: user 10.7 s, sys: 190 ms, total: 10.9 s\n",
      "Wall time: 6.82 s\n"
     ]
    }
   ],
   "source": [
    "# set up multi-index fastrank\n",
    "train_request = fastrank.TrainRequest.coordinate_ascent()\n",
    "\n",
    "params = train_request.params\n",
    "params.init_random = True\n",
    "params.normalize = True\n",
    "params.seed = 1234567\n",
    "\n",
    "ca_multiindex_pipe = multiindex_features >> pt.ltr.apply_learned_model(train_request, form='fastrank')\n",
    "\n",
    "%time ca_multiindex_pipe.fit(train_topics, labels)"
   ]
  },
  {
   "cell_type": "code",
   "execution_count": 128,
   "id": "8302ad09",
   "metadata": {},
   "outputs": [
    {
     "name": "stdout",
     "output_type": "stream",
     "text": [
      "[15:59:57] WARNING: /Users/runner/work/xgboost/xgboost/python-package/build/temp.macosx-10.9-x86_64-cpython-38/xgboost/src/learner.cc:767: \n",
      "Parameters: { \"verbose\" } are not used.\n",
      "\n"
     ]
    }
   ],
   "source": [
    "lmart_x_multiindex = xgb.sklearn.XGBRanker(objective='rank:ndcg',\n",
    "      learning_rate=0.1,\n",
    "      gamma=1.0,\n",
    "      min_child_weight=0.1,\n",
    "      max_depth=6,\n",
    "      verbose=2,\n",
    "      random_state=42)\n",
    "\n",
    "lmart_x_multiindex_pipe = multiindex_features >> pt.ltr.apply_learned_model(lmart_x_multiindex, form=\"ltr\")\n",
    "lmart_x_multiindex_pipe.fit(train_topics, labels, valid_topics, labels)"
   ]
  },
  {
   "cell_type": "code",
   "execution_count": 129,
   "id": "f62f8e3e",
   "metadata": {},
   "outputs": [
    {
     "data": {
      "text/html": [
       "<div>\n",
       "<style scoped>\n",
       "    .dataframe tbody tr th:only-of-type {\n",
       "        vertical-align: middle;\n",
       "    }\n",
       "\n",
       "    .dataframe tbody tr th {\n",
       "        vertical-align: top;\n",
       "    }\n",
       "\n",
       "    .dataframe thead th {\n",
       "        text-align: right;\n",
       "    }\n",
       "</style>\n",
       "<table border=\"1\" class=\"dataframe\">\n",
       "  <thead>\n",
       "    <tr style=\"text-align: right;\">\n",
       "      <th></th>\n",
       "      <th>name</th>\n",
       "      <th>map</th>\n",
       "      <th>ndcg</th>\n",
       "      <th>ndcg_cut_10</th>\n",
       "      <th>mrt</th>\n",
       "    </tr>\n",
       "  </thead>\n",
       "  <tbody>\n",
       "    <tr>\n",
       "      <th>0</th>\n",
       "      <td>BR(BM25)</td>\n",
       "      <td>0.956574</td>\n",
       "      <td>0.907808</td>\n",
       "      <td>0.748468</td>\n",
       "      <td>0.031461</td>\n",
       "    </tr>\n",
       "    <tr>\n",
       "      <th>1</th>\n",
       "      <td>BR(TF_IDF)</td>\n",
       "      <td>0.959585</td>\n",
       "      <td>0.909306</td>\n",
       "      <td>0.744234</td>\n",
       "      <td>0.045614</td>\n",
       "    </tr>\n",
       "    <tr>\n",
       "      <th>2</th>\n",
       "      <td>Unnamed: 0       docno  qid    rank  sco...</td>\n",
       "      <td>0.160404</td>\n",
       "      <td>0.308643</td>\n",
       "      <td>0.341436</td>\n",
       "      <td>0.000000</td>\n",
       "    </tr>\n",
       "    <tr>\n",
       "      <th>3</th>\n",
       "      <td>Compose(FUnion(BR(BM25), BR(TF_IDF)), &lt;pyterri...</td>\n",
       "      <td>0.960541</td>\n",
       "      <td>0.964854</td>\n",
       "      <td>0.913514</td>\n",
       "      <td>0.149241</td>\n",
       "    </tr>\n",
       "    <tr>\n",
       "      <th>4</th>\n",
       "      <td>Compose(FUnion(BR(BM25), BR(TF_IDF)), &lt;pyterri...</td>\n",
       "      <td>0.955094</td>\n",
       "      <td>0.910001</td>\n",
       "      <td>0.753370</td>\n",
       "      <td>0.106049</td>\n",
       "    </tr>\n",
       "    <tr>\n",
       "      <th>5</th>\n",
       "      <td>Compose(FUnion(BR(BM25), FUnion(BR(TF_IDF), FU...</td>\n",
       "      <td>0.959618</td>\n",
       "      <td>0.969221</td>\n",
       "      <td>0.937189</td>\n",
       "      <td>0.246948</td>\n",
       "    </tr>\n",
       "    <tr>\n",
       "      <th>6</th>\n",
       "      <td>Compose(FUnion(BR(BM25), FUnion(BR(TF_IDF), FU...</td>\n",
       "      <td>0.877736</td>\n",
       "      <td>0.912184</td>\n",
       "      <td>0.790205</td>\n",
       "      <td>0.229661</td>\n",
       "    </tr>\n",
       "    <tr>\n",
       "      <th>7</th>\n",
       "      <td>Compose(FUnion(BR(BM25), FUnion(BR(TF_IDF), FU...</td>\n",
       "      <td>0.848265</td>\n",
       "      <td>0.895405</td>\n",
       "      <td>0.733043</td>\n",
       "      <td>0.237494</td>\n",
       "    </tr>\n",
       "  </tbody>\n",
       "</table>\n",
       "</div>"
      ],
      "text/plain": [
       "                                                name       map      ndcg  \\\n",
       "0                                           BR(BM25)  0.956574  0.907808   \n",
       "1                                         BR(TF_IDF)  0.959585  0.909306   \n",
       "2        Unnamed: 0       docno  qid    rank  sco...  0.160404  0.308643   \n",
       "3  Compose(FUnion(BR(BM25), BR(TF_IDF)), <pyterri...  0.960541  0.964854   \n",
       "4  Compose(FUnion(BR(BM25), BR(TF_IDF)), <pyterri...  0.955094  0.910001   \n",
       "5  Compose(FUnion(BR(BM25), FUnion(BR(TF_IDF), FU...  0.959618  0.969221   \n",
       "6  Compose(FUnion(BR(BM25), FUnion(BR(TF_IDF), FU...  0.877736  0.912184   \n",
       "7  Compose(FUnion(BR(BM25), FUnion(BR(TF_IDF), FU...  0.848265  0.895405   \n",
       "\n",
       "   ndcg_cut_10       mrt  \n",
       "0     0.748468  0.031461  \n",
       "1     0.744234  0.045614  \n",
       "2     0.341436  0.000000  \n",
       "3     0.913514  0.149241  \n",
       "4     0.753370  0.106049  \n",
       "5     0.937189  0.246948  \n",
       "6     0.790205  0.229661  \n",
       "7     0.733043  0.237494  "
      ]
     },
     "execution_count": 129,
     "metadata": {},
     "output_type": "execute_result"
    }
   ],
   "source": [
    "pt.Experiment(\n",
    "    [bm25, tfidf, gov_results, rf_pipe, ca_pipe, rf_multiindex_pipe, ca_multiindex_pipe, lmart_x_multiindex_pipe],\n",
    "    topics,\n",
    "    labels,\n",
    "    eval_metrics=[\"map\", \"ndcg\", \"ndcg_cut_10\", \"mrt\"])"
   ]
  },
  {
   "cell_type": "markdown",
   "id": "65d63a14",
   "metadata": {},
   "source": [
    "Separately indexing the titles and summaries and using the bm25 scores for these indices as features does slightly improve search; it has the highest impact on rank, where the first 10 results are now ~2.4% better. IT does seriously slow down the search, though -- where the random forest was already 5 times slower than BM25, the additional indices double the time it takes. "
   ]
  },
  {
   "cell_type": "markdown",
   "id": "a7733626",
   "metadata": {},
   "source": [
    "### Tuning the Random Forest\n",
    "\n",
    "I also tried indexing all facets of the corpus (text, title, and summary) in one index, but got slightly worse results than with only indexing the text. Directly indexing the title and summary slows down my search, but does improve it -- especially (by ~2.4%) for the first 10 results. Because the random forest model seems to be much better than the other, I'll do a bit of tuning to see if I can eke out slightly better nDCG or speed up the timing at all. I tried with 100, 200, 300, 400, 500, and 600 estimators; this makes a difference in how long it takes to train the model (100 takes ~4.3 seconds with 600 takes 12), but almost no difference on nDCG. At the end of the day, 400 is still best."
   ]
  },
  {
   "cell_type": "code",
   "execution_count": 162,
   "id": "d059fcb2",
   "metadata": {},
   "outputs": [
    {
     "name": "stdout",
     "output_type": "stream",
     "text": [
      "CPU times: user 5.51 s, sys: 77.1 ms, total: 5.59 s\n",
      "Wall time: 4.32 s\n"
     ]
    }
   ],
   "source": [
    "# random forest w/ 600 estimators\n",
    "rf = RandomForestRegressor(n_estimators = 600, random_state = 42, n_jobs = 2)\n",
    "rf_600_pipe = multiindex_features >> pt.ltr.apply_learned_model(rf)\n",
    "%time rf_600_pipe.fit(train_topics, labels)"
   ]
  },
  {
   "cell_type": "code",
   "execution_count": 163,
   "id": "8fbf91c5",
   "metadata": {},
   "outputs": [
    {
     "name": "stdout",
     "output_type": "stream",
     "text": [
      "CPU times: user 9.04 s, sys: 152 ms, total: 9.19 s\n",
      "Wall time: 6.49 s\n"
     ]
    }
   ],
   "source": [
    "# random forest w/ 200 estimators\n",
    "rf = RandomForestRegressor(n_estimators = 200, random_state = 42, n_jobs = 2)\n",
    "rf_200_pipe = multiindex_features >> pt.ltr.apply_learned_model(rf)\n",
    "%time rf_200_pipe.fit(train_topics, labels)"
   ]
  },
  {
   "cell_type": "code",
   "execution_count": 164,
   "id": "d3f86888",
   "metadata": {},
   "outputs": [
    {
     "data": {
      "text/html": [
       "<div>\n",
       "<style scoped>\n",
       "    .dataframe tbody tr th:only-of-type {\n",
       "        vertical-align: middle;\n",
       "    }\n",
       "\n",
       "    .dataframe tbody tr th {\n",
       "        vertical-align: top;\n",
       "    }\n",
       "\n",
       "    .dataframe thead th {\n",
       "        text-align: right;\n",
       "    }\n",
       "</style>\n",
       "<table border=\"1\" class=\"dataframe\">\n",
       "  <thead>\n",
       "    <tr style=\"text-align: right;\">\n",
       "      <th></th>\n",
       "      <th>name</th>\n",
       "      <th>map</th>\n",
       "      <th>ndcg</th>\n",
       "      <th>ndcg_cut_10</th>\n",
       "      <th>mrt</th>\n",
       "    </tr>\n",
       "  </thead>\n",
       "  <tbody>\n",
       "    <tr>\n",
       "      <th>0</th>\n",
       "      <td>BR(BM25)</td>\n",
       "      <td>0.956574</td>\n",
       "      <td>0.907808</td>\n",
       "      <td>0.748468</td>\n",
       "      <td>0.035066</td>\n",
       "    </tr>\n",
       "    <tr>\n",
       "      <th>1</th>\n",
       "      <td>BR(TF_IDF)</td>\n",
       "      <td>0.959585</td>\n",
       "      <td>0.909306</td>\n",
       "      <td>0.744234</td>\n",
       "      <td>0.032767</td>\n",
       "    </tr>\n",
       "    <tr>\n",
       "      <th>2</th>\n",
       "      <td>Unnamed: 0       docno  qid    rank  sco...</td>\n",
       "      <td>0.160404</td>\n",
       "      <td>0.308643</td>\n",
       "      <td>0.341436</td>\n",
       "      <td>0.000000</td>\n",
       "    </tr>\n",
       "    <tr>\n",
       "      <th>3</th>\n",
       "      <td>Compose(FUnion(BR(BM25), FUnion(BR(TF_IDF), FU...</td>\n",
       "      <td>0.958904</td>\n",
       "      <td>0.970156</td>\n",
       "      <td>0.939071</td>\n",
       "      <td>0.273361</td>\n",
       "    </tr>\n",
       "    <tr>\n",
       "      <th>4</th>\n",
       "      <td>Compose(FUnion(BR(BM25), FUnion(BR(TF_IDF), FU...</td>\n",
       "      <td>0.959618</td>\n",
       "      <td>0.969221</td>\n",
       "      <td>0.937189</td>\n",
       "      <td>0.291790</td>\n",
       "    </tr>\n",
       "    <tr>\n",
       "      <th>5</th>\n",
       "      <td>Compose(FUnion(BR(BM25), FUnion(BR(TF_IDF), FU...</td>\n",
       "      <td>0.957601</td>\n",
       "      <td>0.967580</td>\n",
       "      <td>0.932107</td>\n",
       "      <td>0.251668</td>\n",
       "    </tr>\n",
       "  </tbody>\n",
       "</table>\n",
       "</div>"
      ],
      "text/plain": [
       "                                                name       map      ndcg  \\\n",
       "0                                           BR(BM25)  0.956574  0.907808   \n",
       "1                                         BR(TF_IDF)  0.959585  0.909306   \n",
       "2        Unnamed: 0       docno  qid    rank  sco...  0.160404  0.308643   \n",
       "3  Compose(FUnion(BR(BM25), FUnion(BR(TF_IDF), FU...  0.958904  0.970156   \n",
       "4  Compose(FUnion(BR(BM25), FUnion(BR(TF_IDF), FU...  0.959618  0.969221   \n",
       "5  Compose(FUnion(BR(BM25), FUnion(BR(TF_IDF), FU...  0.957601  0.967580   \n",
       "\n",
       "   ndcg_cut_10       mrt  \n",
       "0     0.748468  0.035066  \n",
       "1     0.744234  0.032767  \n",
       "2     0.341436  0.000000  \n",
       "3     0.939071  0.273361  \n",
       "4     0.937189  0.291790  \n",
       "5     0.932107  0.251668  "
      ]
     },
     "execution_count": 164,
     "metadata": {},
     "output_type": "execute_result"
    }
   ],
   "source": [
    "pt.Experiment(\n",
    "    [bm25, tfidf, gov_results, rf_200_pipe, rf_multiindex_pipe, rf_600_pipe],\n",
    "    topics,\n",
    "    labels,\n",
    "    eval_metrics=[\"map\", \"ndcg\", \"ndcg_cut_10\", \"mrt\"])"
   ]
  },
  {
   "cell_type": "markdown",
   "id": "cb37f9be",
   "metadata": {},
   "source": [
    "I also tried to tune based on the number of concurrent jobs; I wondered if this would speed up the model training. It did, and it also gave a very marginal benefit to mean response time. "
   ]
  },
  {
   "cell_type": "code",
   "execution_count": 165,
   "id": "4b97ab3c",
   "metadata": {},
   "outputs": [
    {
     "name": "stdout",
     "output_type": "stream",
     "text": [
      "CPU times: user 11 s, sys: 136 ms, total: 11.2 s\n",
      "Wall time: 11.3 s\n"
     ]
    }
   ],
   "source": [
    "# random forest w/ 1 jobs\n",
    "rf = RandomForestRegressor(n_estimators = 400, random_state = 42, n_jobs = 1)\n",
    "rf_1_pipe = multiindex_features >> pt.ltr.apply_learned_model(rf)\n",
    "%time rf_1_pipe.fit(train_topics, labels)"
   ]
  },
  {
   "cell_type": "code",
   "execution_count": 166,
   "id": "142d6f1f",
   "metadata": {},
   "outputs": [
    {
     "name": "stdout",
     "output_type": "stream",
     "text": [
      "CPU times: user 15.2 s, sys: 192 ms, total: 15.4 s\n",
      "Wall time: 7.34 s\n"
     ]
    }
   ],
   "source": [
    "# random forest w/ 3 jobs\n",
    "rf = RandomForestRegressor(n_estimators = 400, random_state = 42, n_jobs = 3)\n",
    "rf_3_pipe = multiindex_features >> pt.ltr.apply_learned_model(rf)\n",
    "%time rf_3_pipe.fit(train_topics, labels)"
   ]
  },
  {
   "cell_type": "code",
   "execution_count": 167,
   "id": "c02aa6b9",
   "metadata": {},
   "outputs": [
    {
     "name": "stdout",
     "output_type": "stream",
     "text": [
      "CPU times: user 18.5 s, sys: 401 ms, total: 18.9 s\n",
      "Wall time: 8.52 s\n"
     ]
    }
   ],
   "source": [
    "# random forest w/ 4 jobs\n",
    "rf = RandomForestRegressor(n_estimators = 400, random_state = 42, n_jobs = 4)\n",
    "rf_4_pipe = multiindex_features >> pt.ltr.apply_learned_model(rf)\n",
    "%time rf_4_pipe.fit(train_topics, labels)"
   ]
  },
  {
   "cell_type": "code",
   "execution_count": 169,
   "id": "59e687ac",
   "metadata": {},
   "outputs": [
    {
     "name": "stdout",
     "output_type": "stream",
     "text": [
      "CPU times: user 16.3 s, sys: 235 ms, total: 16.5 s\n",
      "Wall time: 6.76 s\n"
     ]
    }
   ],
   "source": [
    "# random forest w/ all jobs (-1 uses all available CPU)\n",
    "rf = RandomForestRegressor(n_estimators = 400, random_state = 42, n_jobs = -1)\n",
    "rf_all_pipe = multiindex_features >> pt.ltr.apply_learned_model(rf)\n",
    "%time rf_all_pipe.fit(train_topics, labels)"
   ]
  },
  {
   "cell_type": "code",
   "execution_count": 171,
   "id": "87c0e638",
   "metadata": {},
   "outputs": [
    {
     "data": {
      "text/html": [
       "<div>\n",
       "<style scoped>\n",
       "    .dataframe tbody tr th:only-of-type {\n",
       "        vertical-align: middle;\n",
       "    }\n",
       "\n",
       "    .dataframe tbody tr th {\n",
       "        vertical-align: top;\n",
       "    }\n",
       "\n",
       "    .dataframe thead th {\n",
       "        text-align: right;\n",
       "    }\n",
       "</style>\n",
       "<table border=\"1\" class=\"dataframe\">\n",
       "  <thead>\n",
       "    <tr style=\"text-align: right;\">\n",
       "      <th></th>\n",
       "      <th>name</th>\n",
       "      <th>map</th>\n",
       "      <th>ndcg</th>\n",
       "      <th>ndcg_cut_10</th>\n",
       "      <th>mrt</th>\n",
       "    </tr>\n",
       "  </thead>\n",
       "  <tbody>\n",
       "    <tr>\n",
       "      <th>0</th>\n",
       "      <td>BR(BM25)</td>\n",
       "      <td>0.956574</td>\n",
       "      <td>0.907808</td>\n",
       "      <td>0.748468</td>\n",
       "      <td>0.028733</td>\n",
       "    </tr>\n",
       "    <tr>\n",
       "      <th>1</th>\n",
       "      <td>BR(TF_IDF)</td>\n",
       "      <td>0.959585</td>\n",
       "      <td>0.909306</td>\n",
       "      <td>0.744234</td>\n",
       "      <td>0.031061</td>\n",
       "    </tr>\n",
       "    <tr>\n",
       "      <th>2</th>\n",
       "      <td>Unnamed: 0       docno  qid    rank  sco...</td>\n",
       "      <td>0.160404</td>\n",
       "      <td>0.308643</td>\n",
       "      <td>0.341436</td>\n",
       "      <td>0.000000</td>\n",
       "    </tr>\n",
       "    <tr>\n",
       "      <th>3</th>\n",
       "      <td>Compose(FUnion(BR(BM25), FUnion(BR(TF_IDF), FU...</td>\n",
       "      <td>0.959618</td>\n",
       "      <td>0.969221</td>\n",
       "      <td>0.937189</td>\n",
       "      <td>0.262539</td>\n",
       "    </tr>\n",
       "    <tr>\n",
       "      <th>4</th>\n",
       "      <td>Compose(FUnion(BR(BM25), FUnion(BR(TF_IDF), FU...</td>\n",
       "      <td>0.959618</td>\n",
       "      <td>0.969221</td>\n",
       "      <td>0.937189</td>\n",
       "      <td>0.228370</td>\n",
       "    </tr>\n",
       "    <tr>\n",
       "      <th>5</th>\n",
       "      <td>Compose(FUnion(BR(BM25), FUnion(BR(TF_IDF), FU...</td>\n",
       "      <td>0.959618</td>\n",
       "      <td>0.969221</td>\n",
       "      <td>0.937189</td>\n",
       "      <td>0.225564</td>\n",
       "    </tr>\n",
       "    <tr>\n",
       "      <th>6</th>\n",
       "      <td>Compose(FUnion(BR(BM25), FUnion(BR(TF_IDF), FU...</td>\n",
       "      <td>0.959618</td>\n",
       "      <td>0.969221</td>\n",
       "      <td>0.937189</td>\n",
       "      <td>0.217420</td>\n",
       "    </tr>\n",
       "    <tr>\n",
       "      <th>7</th>\n",
       "      <td>Compose(FUnion(BR(BM25), FUnion(BR(TF_IDF), FU...</td>\n",
       "      <td>0.959618</td>\n",
       "      <td>0.969221</td>\n",
       "      <td>0.937189</td>\n",
       "      <td>0.222468</td>\n",
       "    </tr>\n",
       "  </tbody>\n",
       "</table>\n",
       "</div>"
      ],
      "text/plain": [
       "                                                name       map      ndcg  \\\n",
       "0                                           BR(BM25)  0.956574  0.907808   \n",
       "1                                         BR(TF_IDF)  0.959585  0.909306   \n",
       "2        Unnamed: 0       docno  qid    rank  sco...  0.160404  0.308643   \n",
       "3  Compose(FUnion(BR(BM25), FUnion(BR(TF_IDF), FU...  0.959618  0.969221   \n",
       "4  Compose(FUnion(BR(BM25), FUnion(BR(TF_IDF), FU...  0.959618  0.969221   \n",
       "5  Compose(FUnion(BR(BM25), FUnion(BR(TF_IDF), FU...  0.959618  0.969221   \n",
       "6  Compose(FUnion(BR(BM25), FUnion(BR(TF_IDF), FU...  0.959618  0.969221   \n",
       "7  Compose(FUnion(BR(BM25), FUnion(BR(TF_IDF), FU...  0.959618  0.969221   \n",
       "\n",
       "   ndcg_cut_10       mrt  \n",
       "0     0.748468  0.028733  \n",
       "1     0.744234  0.031061  \n",
       "2     0.341436  0.000000  \n",
       "3     0.937189  0.262539  \n",
       "4     0.937189  0.228370  \n",
       "5     0.937189  0.225564  \n",
       "6     0.937189  0.217420  \n",
       "7     0.937189  0.222468  "
      ]
     },
     "execution_count": 171,
     "metadata": {},
     "output_type": "execute_result"
    }
   ],
   "source": [
    "pt.Experiment(\n",
    "    [bm25, tfidf, gov_results, rf_1_pipe, rf_multiindex_pipe, rf_3_pipe, rf_4_pipe, rf_all_pipe],\n",
    "    topics,\n",
    "    labels,\n",
    "    eval_metrics=[\"map\", \"ndcg\", \"ndcg_cut_10\", \"mrt\"])"
   ]
  },
  {
   "cell_type": "markdown",
   "id": "92ba4a38",
   "metadata": {},
   "source": [
    "Though using all available CPU is the fastest to train, it's very slightly slower to return results (though I don't understand why at this moment). For this reason, I'll stick with 4 jobs. "
   ]
  }
 ],
 "metadata": {
  "kernelspec": {
   "display_name": "Python 3 (ipykernel)",
   "language": "python",
   "name": "python3"
  },
  "language_info": {
   "codemirror_mode": {
    "name": "ipython",
    "version": 3
   },
   "file_extension": ".py",
   "mimetype": "text/x-python",
   "name": "python",
   "nbconvert_exporter": "python",
   "pygments_lexer": "ipython3",
   "version": "3.9.13"
  }
 },
 "nbformat": 4,
 "nbformat_minor": 5
}
