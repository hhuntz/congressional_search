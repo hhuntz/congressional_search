{
 "cells": [
  {
   "cell_type": "markdown",
   "id": "5487f443",
   "metadata": {},
   "source": [
    "# A Search Engine for US Congressional Bills\n",
    "### Holden Huntzinger -- holdenh@umich.edu\n",
    "Currently includes bills 1993-2016\n",
    "\n",
    "See the [accompanying report](https://docs.google.com/document/d/18zFmpfLCy-gGJyt9WcHooT_v3RIC75SHj0IgbeayRYo/edit?usp=sharing) for additional information or download the corpus and other code from [Github](https://github.com/hhuntz/congressional_search)"
   ]
  },
  {
   "cell_type": "markdown",
   "id": "cb5596e4",
   "metadata": {},
   "source": [
    "## Step 1: Create an Index using Pyterrier"
   ]
  },
  {
   "cell_type": "code",
   "execution_count": 78,
   "id": "101a014e",
   "metadata": {},
   "outputs": [],
   "source": [
    "import pandas as pd\n",
    "import numpy as np\n",
    "import pyterrier as pt\n",
    "import warnings\n",
    "warnings.filterwarnings('ignore')"
   ]
  },
  {
   "cell_type": "code",
   "execution_count": 2,
   "id": "27fa4ed5",
   "metadata": {},
   "outputs": [
    {
     "name": "stderr",
     "output_type": "stream",
     "text": [
      "PyTerrier 0.9.1 has loaded Terrier 5.7 (built by craigm on 2022-11-10 18:30) and terrier-helper 0.0.7\n",
      "\n",
      "No etc/terrier.properties, using terrier.default.properties for bootstrap configuration.\n"
     ]
    }
   ],
   "source": [
    "# start pyterrier\n",
    "if not pt.started():\n",
    "    pt.init()"
   ]
  },
  {
   "cell_type": "code",
   "execution_count": 30,
   "id": "b7df8e6c",
   "metadata": {},
   "outputs": [],
   "source": [
    "# get data\n",
    "bills_df = pd.read_csv('data/us_congress_bills_1993-2016.csv', index_col = 0)\n",
    "bills_df.columns = ['docno', 'text', 'summary', 'title'] # col name 'docno' prescribed by pyterrier"
   ]
  },
  {
   "cell_type": "code",
   "execution_count": 33,
   "id": "3d9ec6f6",
   "metadata": {},
   "outputs": [],
   "source": [
    "# create index\n",
    "index_dir = './congressional_search_index'\n",
    "iter_indexer = pt.IterDictIndexer(index_dir, overwrite=True)\n",
    "bills_dict = bills_df.to_dict(orient=\"records\") \n",
    "indexref = iter_indexer.index(bills_dict, fields=('text', 'summary', 'title'))\n",
    "index = pt.IndexFactory.of(indexref)"
   ]
  },
  {
   "cell_type": "code",
   "execution_count": 34,
   "id": "4e10dee7",
   "metadata": {
    "scrolled": true
   },
   "outputs": [
    {
     "name": "stdout",
     "output_type": "stream",
     "text": [
      "Number of documents: 22218\n",
      "Number of terms: 42804\n",
      "Number of postings: 5367104\n",
      "Number of fields: 3\n",
      "Number of tokens: 18691928\n",
      "Field names: [text, summary, title]\n",
      "Positions:   false\n",
      "\n"
     ]
    }
   ],
   "source": [
    "# collection stats\n",
    "print(index.getCollectionStatistics().toString())"
   ]
  },
  {
   "cell_type": "markdown",
   "id": "814e39b4",
   "metadata": {},
   "source": [
    "## Step 2: Retrieve Documents for Annotation"
   ]
  },
  {
   "cell_type": "markdown",
   "id": "e5525628",
   "metadata": {},
   "source": [
    "The goal here is to retrieve results for sample queries to be manually annotated for relevance on a 1-5 (5 being most relevant) scale. Annotations are loaded into this notebook below. Many of the sample queries are based on the long-running [Gallop poll](https://news.gallup.com/poll/1675/most-important-problem.aspx) of Americans that asks \"What do you think is the most important problem facing the country today?\""
   ]
  },
  {
   "cell_type": "code",
   "execution_count": 85,
   "id": "5697c61c",
   "metadata": {},
   "outputs": [
    {
     "data": {
      "text/html": [
       "<div>\n",
       "<style scoped>\n",
       "    .dataframe tbody tr th:only-of-type {\n",
       "        vertical-align: middle;\n",
       "    }\n",
       "\n",
       "    .dataframe tbody tr th {\n",
       "        vertical-align: top;\n",
       "    }\n",
       "\n",
       "    .dataframe thead th {\n",
       "        text-align: right;\n",
       "    }\n",
       "</style>\n",
       "<table border=\"1\" class=\"dataframe\">\n",
       "  <thead>\n",
       "    <tr style=\"text-align: right;\">\n",
       "      <th></th>\n",
       "      <th>qid</th>\n",
       "      <th>query</th>\n",
       "    </tr>\n",
       "  </thead>\n",
       "  <tbody>\n",
       "    <tr>\n",
       "      <th>0</th>\n",
       "      <td>q1</td>\n",
       "      <td>elephants</td>\n",
       "    </tr>\n",
       "    <tr>\n",
       "      <th>1</th>\n",
       "      <td>q2</td>\n",
       "      <td>gun rights</td>\n",
       "    </tr>\n",
       "    <tr>\n",
       "      <th>2</th>\n",
       "      <td>q3</td>\n",
       "      <td>oil prices</td>\n",
       "    </tr>\n",
       "    <tr>\n",
       "      <th>3</th>\n",
       "      <td>q4</td>\n",
       "      <td>economic recession depression economy</td>\n",
       "    </tr>\n",
       "    <tr>\n",
       "      <th>4</th>\n",
       "      <td>q5</td>\n",
       "      <td>immigration</td>\n",
       "    </tr>\n",
       "  </tbody>\n",
       "</table>\n",
       "</div>"
      ],
      "text/plain": [
       "  qid                                  query\n",
       "0  q1                              elephants\n",
       "1  q2                             gun rights\n",
       "2  q3                             oil prices\n",
       "3  q4  economic recession depression economy\n",
       "4  q5                            immigration"
      ]
     },
     "execution_count": 85,
     "metadata": {},
     "output_type": "execute_result"
    }
   ],
   "source": [
    "# load queries\n",
    "queries = pd.read_csv('data/sample_queries.csv', index_col = 0)\n",
    "queries.head()"
   ]
  },
  {
   "cell_type": "code",
   "execution_count": 43,
   "id": "39c17cc3",
   "metadata": {},
   "outputs": [],
   "source": [
    "# use different basic weighting schemes\n",
    "tfidf = pt.BatchRetrieve(index, wmodel = 'TF_IDF')\n",
    "bm25 = pt.BatchRetrieve(index, wmodel = 'BM25')\n",
    "pl2 = pt.BatchRetrieve(index, wmodel = 'PL2')"
   ]
  },
  {
   "cell_type": "code",
   "execution_count": 80,
   "id": "ec904295",
   "metadata": {
    "scrolled": true
   },
   "outputs": [
    {
     "data": {
      "text/html": [
       "<div>\n",
       "<style scoped>\n",
       "    .dataframe tbody tr th:only-of-type {\n",
       "        vertical-align: middle;\n",
       "    }\n",
       "\n",
       "    .dataframe tbody tr th {\n",
       "        vertical-align: top;\n",
       "    }\n",
       "\n",
       "    .dataframe thead th {\n",
       "        text-align: right;\n",
       "    }\n",
       "</style>\n",
       "<table border=\"1\" class=\"dataframe\">\n",
       "  <thead>\n",
       "    <tr style=\"text-align: right;\">\n",
       "      <th></th>\n",
       "      <th>docno</th>\n",
       "      <th>text</th>\n",
       "      <th>summary</th>\n",
       "      <th>title</th>\n",
       "      <th>qid</th>\n",
       "      <th>query</th>\n",
       "    </tr>\n",
       "  </thead>\n",
       "  <tbody>\n",
       "    <tr>\n",
       "      <th>0</th>\n",
       "      <td>115_s1256</td>\n",
       "      <td>SECTION 1. SHORT TITLE.\\n\\n    This Act may be...</td>\n",
       "      <td>Ghost Army Congressional Gold Medal Act This b...</td>\n",
       "      <td>Ghost Army Congressional Gold Medal Act</td>\n",
       "      <td>q1</td>\n",
       "      <td>elephants</td>\n",
       "    </tr>\n",
       "    <tr>\n",
       "      <th>1</th>\n",
       "      <td>114_s27</td>\n",
       "      <td>SECTION 1. SHORT TITLE.\\n\\n    This Act may be...</td>\n",
       "      <td>Wildlife Trafficking Enforcement Act of 2015 T...</td>\n",
       "      <td>Wildlife Trafficking Enforcement Act of 2015</td>\n",
       "      <td>q1</td>\n",
       "      <td>elephants</td>\n",
       "    </tr>\n",
       "    <tr>\n",
       "      <th>2</th>\n",
       "      <td>115_hr226</td>\n",
       "      <td>SECTION 1. SHORT TITLE.\\n\\n    This Act may be...</td>\n",
       "      <td>African Elephant Conservation and Legal Ivory ...</td>\n",
       "      <td>African Elephant Conservation and Legal Ivory ...</td>\n",
       "      <td>q1</td>\n",
       "      <td>elephants</td>\n",
       "    </tr>\n",
       "    <tr>\n",
       "      <th>3</th>\n",
       "      <td>109_s2254</td>\n",
       "      <td>SECTION 1. FINDINGS.\\n\\n    Congress finds tha...</td>\n",
       "      <td>Directs the Secretary of the Army to: (1) carr...</td>\n",
       "      <td>A bill to authorize the Secretary of the Army ...</td>\n",
       "      <td>q1</td>\n",
       "      <td>elephants</td>\n",
       "    </tr>\n",
       "    <tr>\n",
       "      <th>4</th>\n",
       "      <td>115_hr2701</td>\n",
       "      <td>SECTION 1. SHORT TITLE.\\n\\n    This Act may be...</td>\n",
       "      <td>Ghost Army Congressional Gold Medal Act This b...</td>\n",
       "      <td>Ghost Army Congressional Gold Medal Act</td>\n",
       "      <td>q1</td>\n",
       "      <td>elephants</td>\n",
       "    </tr>\n",
       "  </tbody>\n",
       "</table>\n",
       "</div>"
      ],
      "text/plain": [
       "        docno                                               text  \\\n",
       "0   115_s1256  SECTION 1. SHORT TITLE.\\n\\n    This Act may be...   \n",
       "1     114_s27  SECTION 1. SHORT TITLE.\\n\\n    This Act may be...   \n",
       "2   115_hr226  SECTION 1. SHORT TITLE.\\n\\n    This Act may be...   \n",
       "3   109_s2254  SECTION 1. FINDINGS.\\n\\n    Congress finds tha...   \n",
       "4  115_hr2701  SECTION 1. SHORT TITLE.\\n\\n    This Act may be...   \n",
       "\n",
       "                                             summary  \\\n",
       "0  Ghost Army Congressional Gold Medal Act This b...   \n",
       "1  Wildlife Trafficking Enforcement Act of 2015 T...   \n",
       "2  African Elephant Conservation and Legal Ivory ...   \n",
       "3  Directs the Secretary of the Army to: (1) carr...   \n",
       "4  Ghost Army Congressional Gold Medal Act This b...   \n",
       "\n",
       "                                               title qid      query  \n",
       "0            Ghost Army Congressional Gold Medal Act  q1  elephants  \n",
       "1       Wildlife Trafficking Enforcement Act of 2015  q1  elephants  \n",
       "2  African Elephant Conservation and Legal Ivory ...  q1  elephants  \n",
       "3  A bill to authorize the Secretary of the Army ...  q1  elephants  \n",
       "4            Ghost Army Congressional Gold Medal Act  q1  elephants  "
      ]
     },
     "execution_count": 80,
     "metadata": {},
     "output_type": "execute_result"
    }
   ],
   "source": [
    "# get sample query results from base models for annotation\n",
    "\n",
    "all_results = pd.DataFrame()\n",
    "\n",
    "for q in queries.qid:\n",
    "    \n",
    "    # get results for each ranking model \n",
    "    docno_list = []\n",
    "    for model in [tfidf, bm25, pl2]:\n",
    "        model_res = model(queries[queries.qid == q]).head(100)\n",
    "        returned_docnos = list(model_res.docno)\n",
    "        docno_list.extend(returned_docnos)\n",
    "    \n",
    "    # get text, summary, title, and query for each returned bill\n",
    "    q_results = bills_df[bills_df.docno.isin(docno_list)]\n",
    "    q_results['qid'] = q\n",
    "    all_results = pd.concat([all_results, q_results])\n",
    "\n",
    "results = pd.merge(all_results, queries, on = 'qid')\n",
    "\n",
    "results.head()"
   ]
  },
  {
   "cell_type": "code",
   "execution_count": null,
   "id": "1316f555",
   "metadata": {},
   "outputs": [],
   "source": []
  },
  {
   "cell_type": "code",
   "execution_count": null,
   "id": "93c714bc",
   "metadata": {},
   "outputs": [],
   "source": []
  },
  {
   "cell_type": "code",
   "execution_count": null,
   "id": "89ecae2c",
   "metadata": {},
   "outputs": [],
   "source": [
    "# read annotations in as df w/ columns=[‘qid’,’docno’,‘label’] for experiments\n"
   ]
  }
 ],
 "metadata": {
  "kernelspec": {
   "display_name": "Python 3 (ipykernel)",
   "language": "python",
   "name": "python3"
  },
  "language_info": {
   "codemirror_mode": {
    "name": "ipython",
    "version": 3
   },
   "file_extension": ".py",
   "mimetype": "text/x-python",
   "name": "python",
   "nbconvert_exporter": "python",
   "pygments_lexer": "ipython3",
   "version": "3.9.13"
  }
 },
 "nbformat": 4,
 "nbformat_minor": 5
}
